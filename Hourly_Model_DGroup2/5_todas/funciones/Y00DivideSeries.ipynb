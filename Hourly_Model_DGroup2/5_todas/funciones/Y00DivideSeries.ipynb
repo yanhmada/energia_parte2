{
 "cells": [
  {
   "cell_type": "code",
   "execution_count": 1,
   "id": "fb43e28a",
   "metadata": {},
   "outputs": [],
   "source": [
    "import numpy as np"
   ]
  },
  {
   "cell_type": "code",
   "execution_count": 2,
   "id": "9f3d0706",
   "metadata": {},
   "outputs": [],
   "source": [
    "def divide_series(series, n_pasado, n_futuro, n_salto, es_train=True):\n",
    "  \"\"\"\n",
    "  n_pasado: número de observaciones pasadas para el encoder \n",
    "  n_futuro: número de observaciones futuras\n",
    "  n_salto: a partir de donde empiezan a contar las observaciones futuras\n",
    "\n",
    "  \"\"\"\n",
    "  X, y = list(), list() # se crean listas y ndarrays\n",
    "  generador = range(len(series)) if es_train else range(0, len(series), n_futuro)\n",
    "  \n",
    "  for ini in generador:\n",
    "    fin_anterior = ini + n_pasado\n",
    "    fin_actual = fin_anterior + n_salto + n_futuro\n",
    "    if fin_actual > len(series):\n",
    "      break\n",
    "    pasado = series[ini: fin_anterior, :]\n",
    "    futuro = series[fin_anterior + n_salto: fin_actual,[0]]\n",
    "    X.append(pasado)\n",
    "    y.append(futuro)\n",
    "  return np.array(X), np.array(y)"
   ]
  },
  {
   "cell_type": "code",
   "execution_count": null,
   "id": "198bf914",
   "metadata": {},
   "outputs": [],
   "source": []
  }
 ],
 "metadata": {
  "kernelspec": {
   "display_name": "Python 3 (ipykernel)",
   "language": "python",
   "name": "python3"
  },
  "language_info": {
   "codemirror_mode": {
    "name": "ipython",
    "version": 3
   },
   "file_extension": ".py",
   "mimetype": "text/x-python",
   "name": "python",
   "nbconvert_exporter": "python",
   "pygments_lexer": "ipython3",
   "version": "3.10.9"
  }
 },
 "nbformat": 4,
 "nbformat_minor": 5
}
