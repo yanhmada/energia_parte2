{
 "cells": [
  {
   "cell_type": "code",
   "execution_count": 1,
   "id": "24c70b24",
   "metadata": {},
   "outputs": [
    {
     "ename": "ModuleNotFoundError",
     "evalue": "No module named 'sklearn'",
     "output_type": "error",
     "traceback": [
      "\u001b[0;31m---------------------------------------------------------------------------\u001b[0m",
      "\u001b[0;31mModuleNotFoundError\u001b[0m                       Traceback (most recent call last)",
      "Cell \u001b[0;32mIn[1], line 2\u001b[0m\n\u001b[1;32m      1\u001b[0m \u001b[38;5;66;03m#importing scikit libraries\u001b[39;00m\n\u001b[0;32m----> 2\u001b[0m \u001b[38;5;28;01mfrom\u001b[39;00m \u001b[38;5;21;01msklearn\u001b[39;00m\u001b[38;5;21;01m.\u001b[39;00m\u001b[38;5;21;01mpreprocessing\u001b[39;00m \u001b[38;5;28;01mimport\u001b[39;00m StandardScaler\n\u001b[1;32m      3\u001b[0m \u001b[38;5;28;01mfrom\u001b[39;00m \u001b[38;5;21;01msklearn\u001b[39;00m\u001b[38;5;21;01m.\u001b[39;00m\u001b[38;5;21;01mdecomposition\u001b[39;00m \u001b[38;5;28;01mimport\u001b[39;00m PCA\n\u001b[1;32m      4\u001b[0m \u001b[38;5;28;01mimport\u001b[39;00m \u001b[38;5;21;01mnumpy\u001b[39;00m \u001b[38;5;28;01mas\u001b[39;00m \u001b[38;5;21;01mnp\u001b[39;00m\n",
      "\u001b[0;31mModuleNotFoundError\u001b[0m: No module named 'sklearn'"
     ]
    }
   ],
   "source": [
    "#importing scikit libraries\n",
    "from sklearn.preprocessing import StandardScaler\n",
    "from sklearn.decomposition import PCA\n",
    "import numpy as np\n",
    "import pandas as pd    \n"
   ]
  },
  {
   "cell_type": "code",
   "execution_count": null,
   "id": "21459735",
   "metadata": {},
   "outputs": [],
   "source": [
    "#pca function\n",
    "def pcafunction(x_data, y_data, num_componentes, name_column, name_index):\n",
    "\n",
    "    # standarizar\n",
    "    scaler_model = StandardScaler().fit(x_data)\n",
    "    x = scaler_model.transform(x_data) \n",
    " \n",
    "       \n",
    "    pca = PCA(n_components=num_componentes)\n",
    "    principalComponents = pca.fit_transform(x)\n",
    "    \n",
    "    pca_df = pd.DataFrame(principalComponents, columns=[f'PC1_{name_column}'\n",
    "                                                        \n",
    "                                                        \n",
    "\n",
    "                                                       ])\n",
    "    pca_df['Date_timed'] = y_data    \n",
    "    \n",
    "    return pca,pca_df,scaler_model #Scaler_model parameters"
   ]
  },
  {
   "cell_type": "code",
   "execution_count": null,
   "id": "8dd05193",
   "metadata": {},
   "outputs": [],
   "source": [
    "def exogen_pca(dataframe, var_index):\n",
    "   \n",
    "    dfvar = dataframe[[\n",
    "        'Energy_Demand', 'Hour', 'Day', 'Month', 'Temperature_Ca',\n",
    "       'Perceived_Temperature_Ca',  'Temperature_Cul',\n",
    "       'Perceived_Temperature_Cul', 'Temperature_Guas',\n",
    "       'Perceived_Temperature_Guas',\n",
    "       'Temperature_Guay', 'Perceived_Temperature_Guay',\n",
    "        'Temperature_Herm',\n",
    "       'Perceived_Temperature_Herm', 'Temperature_Maz',\n",
    "       'Perceived_Temperature_Maz', 'Temperature_Moch',\n",
    "       'Perceived_Temperature_Moch', 'Temperature_Nav',\n",
    "       'Perceived_Temperature_Nav', 'Temperature_Nog',\n",
    "       'Perceived_Temperature_Nog', 'Temperature_Obr',\n",
    "       'Perceived_Temperature_Obr', 'Monday_Holiday',\n",
    "       'Tuesday_Aft_Hol', 'Easter_week', 'May_1s', 'May_10t', 'Sept_16',\n",
    "       'Nov_2nd', 'Before_Christmas_NY', 'Christmas_NY', 'After_Christmas_NY']]\n",
    "    \n",
    "       \n",
    "    dfvar['Date_timed']= dfvar.index\n",
    "    \n",
    "    #variables para pca\n",
    "    y = dataframe.loc[:,[var_index]].values\n",
    "    \n",
    "    #PCA CLIMATOLOGICAS\n",
    "    x_climatologicas = dataframe.loc[:,'Temperature_Ca':'Perceived_Temperature_Obr'].values \n",
    "    pca_clima,pca_df_clima, scaler_model_clima = pcafunction(x_climatologicas, y, 1, 'Weather', var_index)\n",
    "    \n",
    "    \n",
    "    #UNION DE LOS 2 DATAFRAMES\n",
    "    pca_df = pd.merge(pca_df_clima, dfvar, left_on=var_index, right_on='Date_timed', how='left')\n",
    "    del pca_df['Date_timed']\n",
    "    \n",
    "    return pca_df,pca_clima,scaler_model_clima"
   ]
  },
  {
   "cell_type": "code",
   "execution_count": null,
   "id": "f0930d6c",
   "metadata": {},
   "outputs": [],
   "source": [
    "def new_dataframe(my_array,y_data,name_column, name_index ):\n",
    "    df = pd.DataFrame(my_array, columns=[f'PC1_{name_column}'\n",
    "                                         ])\n",
    "    df['Date_timed'] = y_data\n",
    "    \n",
    "    return df"
   ]
  },
  {
   "cell_type": "code",
   "execution_count": null,
   "id": "054875e9",
   "metadata": {},
   "outputs": [],
   "source": [
    "def transform_data(dataframe, var_index,pca_clima,scaler_model_clima):\n",
    "    \n",
    "    #variables\n",
    "    dfvar = dataframe[[\n",
    "\n",
    "        'Energy_Demand', 'Hour', 'Day', 'Month', 'Temperature_Ca',\n",
    "       'Perceived_Temperature_Ca',  'Temperature_Cul',\n",
    "       'Perceived_Temperature_Cul', 'Temperature_Guas',\n",
    "       'Perceived_Temperature_Guas',\n",
    "       'Temperature_Guay', 'Perceived_Temperature_Guay',\n",
    "        'Temperature_Herm',\n",
    "       'Perceived_Temperature_Herm', 'Temperature_Maz',\n",
    "       'Perceived_Temperature_Maz', 'Temperature_Moch',\n",
    "       'Perceived_Temperature_Moch', 'Temperature_Nav',\n",
    "       'Perceived_Temperature_Nav', 'Temperature_Nog',\n",
    "       'Perceived_Temperature_Nog', 'Temperature_Obr',\n",
    "       'Perceived_Temperature_Obr', 'Monday_Holiday',\n",
    "       'Tuesday_Aft_Hol', 'Easter_week', 'May_1s', 'May_10t', 'Sept_16',\n",
    "       'Nov_2nd', 'Before_Christmas_NY', 'Christmas_NY', 'After_Christmas_NY']]\n",
    "    dfvar['Date_timed']= dfvar.index\n",
    "    #variables y\n",
    "    y = dfvar.index\n",
    "    \n",
    "    ##### PCA CLIMA #####\n",
    "    x_clima = dataframe.loc[:,'Temperature_Ca':'Perceived_Temperature_Obr'].values \n",
    "    #standarizacion  CLIMA\n",
    "    x_df_clima = scaler_model_clima.transform(x_clima) \n",
    "    #trasnformacion\n",
    "    clima = pca_clima.transform(x_df_clima)\n",
    "    \n",
    "    df_clima = new_dataframe(clima,y,'Weather', var_index )\n",
    "    \n",
    "    #UNION DE DATAFRAMES\n",
    "    pca_df = pd.merge(df_clima, dfvar, left_on=var_index, right_on='Date_timed', how='left')\n",
    "    \n",
    "    return pca_df\n",
    "    "
   ]
  }
 ],
 "metadata": {
  "kernelspec": {
   "display_name": "Python 3 (ipykernel)",
   "language": "python",
   "name": "python3"
  },
  "language_info": {
   "codemirror_mode": {
    "name": "ipython",
    "version": 3
   },
   "file_extension": ".py",
   "mimetype": "text/x-python",
   "name": "python",
   "nbconvert_exporter": "python",
   "pygments_lexer": "ipython3",
   "version": "3.10.9"
  }
 },
 "nbformat": 4,
 "nbformat_minor": 5
}
